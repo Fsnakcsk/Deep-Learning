{
 "cells": [
  {
   "cell_type": "code",
   "execution_count": 4,
   "id": "e124aa21",
   "metadata": {},
   "outputs": [],
   "source": [
    "import numpy as np"
   ]
  },
  {
   "cell_type": "markdown",
   "id": "a11c3a9f",
   "metadata": {},
   "source": [
    "## 단순 Perceptron"
   ]
  },
  {
   "cell_type": "code",
   "execution_count": 36,
   "id": "69b2b66e",
   "metadata": {},
   "outputs": [],
   "source": [
    "# 0.5, 0.5, 0.7\n",
    "# 0.5, 0.5, 0.8\n",
    "\n",
    "def AND(x1, x2) :\n",
    "    x = np.array([x1, x2])\n",
    "    w = np.array([0.5, 0.5])\n",
    "    b = -0.7\n",
    "    \n",
    "    tmp = np.sum(x*w) + b\n",
    "    \n",
    "    if tmp <= 0 :\n",
    "        return 0\n",
    "    else :\n",
    "        return 1"
   ]
  },
  {
   "cell_type": "code",
   "execution_count": 37,
   "id": "9f6168c7",
   "metadata": {},
   "outputs": [],
   "source": [
    "def NAND(x1, x2) :\n",
    "    x = np.array([x1, x2])\n",
    "    w = np.array([-0.5, -0.5])\n",
    "    b = 0.7\n",
    "    \n",
    "    tmp = np.sum(x*w) + b\n",
    "    \n",
    "    if tmp <= 0 :\n",
    "        return 0\n",
    "    else :\n",
    "        return 1"
   ]
  },
  {
   "cell_type": "code",
   "execution_count": 49,
   "id": "c11e449d",
   "metadata": {},
   "outputs": [],
   "source": [
    "def OR(x1, x2) :\n",
    "    x = np.array([x1, x2])\n",
    "    w = np.array([0.5, 0.5])\n",
    "    b = -0.2\n",
    "    \n",
    "    tmp = np.sum(x*w) + b\n",
    "    \n",
    "    if tmp <= 0 :\n",
    "        return 0\n",
    "    else :\n",
    "        return 1"
   ]
  },
  {
   "cell_type": "code",
   "execution_count": 52,
   "id": "70715c3c",
   "metadata": {},
   "outputs": [],
   "source": [
    "def tronFunction(F) :\n",
    "    \n",
    "    print('%s' %(F))\n",
    "    for x,y in ([0,0],[1,0],[0,1],[1,1]) :\n",
    "        print(F(x,y))\n",
    "    print()"
   ]
  },
  {
   "cell_type": "code",
   "execution_count": 51,
   "id": "cfb6e1f2",
   "metadata": {},
   "outputs": [
    {
     "name": "stdout",
     "output_type": "stream",
     "text": [
      "<function AND at 0x00000215591C54C0>\n",
      "0\n",
      "0\n",
      "0\n",
      "1\n",
      "\n",
      "<function NAND at 0x00000215591C5160>\n",
      "1\n",
      "1\n",
      "1\n",
      "0\n",
      "\n",
      "<function OR at 0x00000215591C5670>\n",
      "0\n",
      "1\n",
      "1\n",
      "1\n",
      "\n"
     ]
    }
   ],
   "source": [
    "tronFunction(AND)\n",
    "tronFunction(NAND)\n",
    "tronFunction(OR)"
   ]
  },
  {
   "cell_type": "markdown",
   "id": "fdb6e869",
   "metadata": {},
   "source": [
    "## 다중 Perceptron"
   ]
  },
  {
   "cell_type": "code",
   "execution_count": 54,
   "id": "3c74d30b",
   "metadata": {},
   "outputs": [],
   "source": [
    "def simple_perceptron(x1, x2, w1, w2, b):\n",
    "    x = np.array([x1,x2])\n",
    "    w = np.array([w1,w2])\n",
    "    b = b\n",
    "    \n",
    "    tmp = np.sum(w*x) + b\n",
    "    \n",
    "    if tmp <= 0:\n",
    "        return 0\n",
    "    else:\n",
    "        return 1"
   ]
  },
  {
   "cell_type": "code",
   "execution_count": 53,
   "id": "628d4733",
   "metadata": {},
   "outputs": [],
   "source": [
    "def XOR(x1, x2):\n",
    "    \n",
    "    #构建NAND\n",
    "    s1 = simple_perceptron(x1, x2,-0.5, -0.5,  0.7)\n",
    "    \n",
    "    #构建OR\n",
    "    s2 = simple_perceptron(x1, x2, 0.5,  0.5, -0.2)\n",
    "    \n",
    "    #构建AND\n",
    "    y = simple_perceptron( s1, s2, 0.5,  0.5, -0.7)\n",
    "    return y"
   ]
  },
  {
   "cell_type": "code",
   "execution_count": 16,
   "id": "05f861eb",
   "metadata": {},
   "outputs": [
    {
     "name": "stdout",
     "output_type": "stream",
     "text": [
      "0\n",
      "1\n",
      "1\n",
      "0\n"
     ]
    }
   ],
   "source": [
    "for x,y in ([0,0],[1,0],[0,1],[1,1]) :\n",
    "    print(XOR(x,y))"
   ]
  }
 ],
 "metadata": {
  "kernelspec": {
   "display_name": "Python 3 (ipykernel)",
   "language": "python",
   "name": "python3"
  },
  "language_info": {
   "codemirror_mode": {
    "name": "ipython",
    "version": 3
   },
   "file_extension": ".py",
   "mimetype": "text/x-python",
   "name": "python",
   "nbconvert_exporter": "python",
   "pygments_lexer": "ipython3",
   "version": "3.9.7"
  },
  "toc": {
   "base_numbering": 1,
   "nav_menu": {},
   "number_sections": true,
   "sideBar": true,
   "skip_h1_title": false,
   "title_cell": "Table of Contents",
   "title_sidebar": "Contents",
   "toc_cell": false,
   "toc_position": {},
   "toc_section_display": true,
   "toc_window_display": false
  }
 },
 "nbformat": 4,
 "nbformat_minor": 5
}
