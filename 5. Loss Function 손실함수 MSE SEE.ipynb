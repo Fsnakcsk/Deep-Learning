{
 "cells": [
  {
   "cell_type": "markdown",
   "id": "0692d002",
   "metadata": {},
   "source": [
    "http://www.gisdeveloper.co.kr/?p=7631\n",
    "- 비용 실제값과 예측값의 차이"
   ]
  },
  {
   "cell_type": "code",
   "execution_count": 3,
   "id": "865b3f47",
   "metadata": {},
   "outputs": [],
   "source": [
    "import numpy as np\n",
    "import matplotlib.pyplot as plt"
   ]
  },
  {
   "cell_type": "markdown",
   "id": "3b1cf23e",
   "metadata": {},
   "source": [
    "## 평균 제곱 오차(Mean Squared Error, MSE) \n",
    "- 회귀 때 많이씀"
   ]
  },
  {
   "cell_type": "code",
   "execution_count": 9,
   "id": "38335312",
   "metadata": {},
   "outputs": [],
   "source": [
    "def MSE(y, t):\n",
    "    return 0.5 * np.sum((y-t)**2)"
   ]
  },
  {
   "cell_type": "code",
   "execution_count": 10,
   "id": "de073d6d",
   "metadata": {},
   "outputs": [
    {
     "name": "stdout",
     "output_type": "stream",
     "text": [
      "0.04685\n"
     ]
    }
   ],
   "source": [
    "t = np.array([0, 0, 0, 0.5, 0.5, 0, 0, 0, 0, 0])\n",
    "y = np.array([0.01, 0.01, 0.1, 0.3, 0.33, 0.04, 0.02, 0.05, 0.01, 0.1])\n",
    "\n",
    "print(MSE(t,y))"
   ]
  },
  {
   "cell_type": "markdown",
   "id": "08ed7241",
   "metadata": {},
   "source": [
    "## 교차 엔트로피 오차(Cross Entropy Error, CEE) \n",
    "- 분류 때 많이씀"
   ]
  },
  {
   "cell_type": "code",
   "execution_count": 7,
   "id": "0191ebc8",
   "metadata": {},
   "outputs": [],
   "source": [
    "def CEE(y, t):     # y=예측값 t=실제값\n",
    "    delta = 1e-10\n",
    "    return -np.sum(t*np.log(y + delta))"
   ]
  },
  {
   "cell_type": "code",
   "execution_count": 8,
   "id": "a7c75a85",
   "metadata": {},
   "outputs": [
    {
     "name": "stdout",
     "output_type": "stream",
     "text": [
      "0.6931471803599453\n",
      "8.265472039806522\n",
      "21.21844021456322\n"
     ]
    }
   ],
   "source": [
    "t = np.array([0, 0, 0, 0.5, 0.5, 0, 0, 0, 0, 0])\n",
    "y0 = [0, 0, 0, 0.5, 0.5, 0, 0, 0, 0, 0]\n",
    "y1 = [0.01, 0.01, 0.1, 0.3, 0.33, 0.04, 0.02, 0.05, 0.01, 0.1]\n",
    "y2 = np.array([0.3, 0.01, 0.1, 0.01, 0.04, 0.02, 0.05, 0.33, 0.01, 0.1])\n",
    "\n",
    "\n",
    "print(CEE(t,y0)) # 0.6931471803599453\n",
    "print(CEE(t,y1)) # 8.265472039806522\n",
    "print(CEE(t,y2)) # 21.21844021456322"
   ]
  }
 ],
 "metadata": {
  "kernelspec": {
   "display_name": "Python 3 (ipykernel)",
   "language": "python",
   "name": "python3"
  },
  "language_info": {
   "codemirror_mode": {
    "name": "ipython",
    "version": 3
   },
   "file_extension": ".py",
   "mimetype": "text/x-python",
   "name": "python",
   "nbconvert_exporter": "python",
   "pygments_lexer": "ipython3",
   "version": "3.9.13"
  },
  "toc": {
   "base_numbering": 1,
   "nav_menu": {},
   "number_sections": true,
   "sideBar": true,
   "skip_h1_title": false,
   "title_cell": "Table of Contents",
   "title_sidebar": "Contents",
   "toc_cell": false,
   "toc_position": {},
   "toc_section_display": true,
   "toc_window_display": false
  }
 },
 "nbformat": 4,
 "nbformat_minor": 5
}
