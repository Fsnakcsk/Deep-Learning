{
 "cells": [
  {
   "cell_type": "code",
   "execution_count": 35,
   "id": "70c8d8a1",
   "metadata": {},
   "outputs": [],
   "source": [
    "import os, shutil, pathlib\n",
    "#satlux\n",
    "#wisenut"
   ]
  },
  {
   "cell_type": "markdown",
   "id": "be77a60f",
   "metadata": {},
   "source": [
    "## 데이터 경로, 폴더 나눠서 만들기"
   ]
  },
  {
   "cell_type": "code",
   "execution_count": 37,
   "id": "a6cadda5",
   "metadata": {},
   "outputs": [],
   "source": [
    "original_dir = pathlib.Path('./dogs-vs-cats/train')\n",
    "new_base_dir = pathlib.Path('./dogs-vs-cats/cats_vs_dogs_small')\n",
    "\n",
    "def make_subset(subset_name, start_index, end_index) :\n",
    "    for category in ('cat', 'dog') :\n",
    "        dir = new_base_dir / subset_name / category\n",
    "        os.makedirs(dir)\n",
    "        fnames = [f\"{category}.{i}.jpg\"\n",
    "                  for i in range(start_index, end_index)]\n",
    "    \n",
    "        for fname in fnames :\n",
    "            shutil.copyfile(src=original_dir / fname,\n",
    "                        dst=dir / fname)\n",
    "        \n",
    "make_subset('train', start_index = 0, end_index = 1000)\n",
    "make_subset('validation', start_index = 1000, end_index = 1500)\n",
    "make_subset('test', start_index = 1500, end_index = 2500)"
   ]
  },
  {
   "cell_type": "markdown",
   "id": "e4f9c1d1",
   "metadata": {},
   "source": [
    "## 모델 생성"
   ]
  },
  {
   "cell_type": "code",
   "execution_count": 38,
   "id": "0f3eb031",
   "metadata": {},
   "outputs": [],
   "source": [
    "from tensorflow import keras\n",
    "from tensorflow.keras import layers"
   ]
  },
  {
   "cell_type": "markdown",
   "id": "cdeeb170",
   "metadata": {},
   "source": [
    "### 강아지 vs 고양이 분류를 위한 소규모 컨브넷 만들기"
   ]
  },
  {
   "cell_type": "code",
   "execution_count": 39,
   "id": "0bd7b7ce",
   "metadata": {},
   "outputs": [],
   "source": [
    "inputs = keras.Input(shape=(180, 180, 3)) # 이모델은 180*180 크기의 RGB이미지 기대\n",
    "\n",
    "x = layers.Rescaling(1./255)(inputs)      # 입력을 255로 나누어[0,1] 범위로 스케일을 조정\n",
    "\n",
    "x = layers.Conv2D(filters=32, kernel_size=3, activation='relu')(x)\n",
    "x = layers.MaxPooling2D(pool_size=2)(x)\n",
    "\n",
    "x = layers.Conv2D(filters=64, kernel_size=3, activation='relu')(x)\n",
    "x = layers.MaxPooling2D(pool_size=2)(x)\n",
    "\n",
    "x = layers.Conv2D(filters=128, kernel_size=3, activation='relu')(x)\n",
    "x = layers.MaxPooling2D(pool_size=2)(x)\n",
    "\n",
    "x = layers.Conv2D(filters=256, kernel_size=3, activation='relu')(x)\n",
    "x = layers.MaxPooling2D(pool_size=2)(x)\n",
    "\n",
    "x = layers.Conv2D(filters=256, kernel_size=3, activation='relu')(x)\n",
    "x = layers.Flatten()(x)\n",
    "\n",
    "outputs = layers.Dense(1, activation=\"sigmoid\")(x)\n",
    "model = keras.Model(inputs=inputs, outputs=outputs)"
   ]
  },
  {
   "cell_type": "markdown",
   "id": "80aafa80",
   "metadata": {},
   "source": [
    "### 특성맴 Feature Mpb 확인"
   ]
  },
  {
   "cell_type": "code",
   "execution_count": 40,
   "id": "5f680bf8",
   "metadata": {},
   "outputs": [
    {
     "name": "stdout",
     "output_type": "stream",
     "text": [
      "Model: \"model_3\"\n",
      "_________________________________________________________________\n",
      " Layer (type)                Output Shape              Param #   \n",
      "=================================================================\n",
      " input_4 (InputLayer)        [(None, 180, 180, 3)]     0         \n",
      "                                                                 \n",
      " rescaling_3 (Rescaling)     (None, 180, 180, 3)       0         \n",
      "                                                                 \n",
      " conv2d_15 (Conv2D)          (None, 178, 178, 32)      896       \n",
      "                                                                 \n",
      " max_pooling2d_12 (MaxPoolin  (None, 89, 89, 32)       0         \n",
      " g2D)                                                            \n",
      "                                                                 \n",
      " conv2d_16 (Conv2D)          (None, 87, 87, 64)        18496     \n",
      "                                                                 \n",
      " max_pooling2d_13 (MaxPoolin  (None, 43, 43, 64)       0         \n",
      " g2D)                                                            \n",
      "                                                                 \n",
      " conv2d_17 (Conv2D)          (None, 41, 41, 128)       73856     \n",
      "                                                                 \n",
      " max_pooling2d_14 (MaxPoolin  (None, 20, 20, 128)      0         \n",
      " g2D)                                                            \n",
      "                                                                 \n",
      " conv2d_18 (Conv2D)          (None, 18, 18, 256)       295168    \n",
      "                                                                 \n",
      " max_pooling2d_15 (MaxPoolin  (None, 9, 9, 256)        0         \n",
      " g2D)                                                            \n",
      "                                                                 \n",
      " conv2d_19 (Conv2D)          (None, 7, 7, 256)         590080    \n",
      "                                                                 \n",
      " flatten_3 (Flatten)         (None, 12544)             0         \n",
      "                                                                 \n",
      " dense_3 (Dense)             (None, 1)                 12545     \n",
      "                                                                 \n",
      "=================================================================\n",
      "Total params: 991,041\n",
      "Trainable params: 991,041\n",
      "Non-trainable params: 0\n",
      "_________________________________________________________________\n"
     ]
    }
   ],
   "source": [
    "model.summary()"
   ]
  },
  {
   "cell_type": "markdown",
   "id": "2b21cda0",
   "metadata": {},
   "source": [
    "## 모델 훈련 설정하기 (优化器)"
   ]
  },
  {
   "cell_type": "code",
   "execution_count": 41,
   "id": "fbafd9f5",
   "metadata": {},
   "outputs": [],
   "source": [
    "model.compile(loss = \"binary_crossentropy\",\n",
    "              optimizer = \"rmsprop\",\n",
    "              metrics = [\"accuracy\"])"
   ]
  },
  {
   "cell_type": "markdown",
   "id": "825b4c57",
   "metadata": {},
   "source": [
    "## 데이터 전처리\n",
    "  1. img load\n",
    "  2. jpeg를 RGB 픽셀값으로 디코딩\n",
    "  3. 부동 소수점 타입의 텐서로 변환\n",
    "  4. 동일한 크기의 이미지로 바꿈(180 x 180을 사용)\n",
    "  5. 배치로 붂음(하나의 배치의 배치는 32개의 이미지로 구성됨)\n",
    "  \n",
    "  - **image_dataset_from_directory()** 케라스에서 제공\n",
    "  - directory의 서브리렉터리를 찾고 각 서브디렉터리에 있는 이미지 파일을 인덱싱 하고\n",
    "  - 파일 읽고, 순서를 섞고, 텐서 디코-> 동일 크기로 변공 -> 배치로 묶어주는 **tf.data.Dataset 만들어짐**"
   ]
  },
  {
   "cell_type": "code",
   "execution_count": 42,
   "id": "2cb4991c",
   "metadata": {},
   "outputs": [],
   "source": [
    "from tensorflow.keras.utils import image_dataset_from_directory"
   ]
  },
  {
   "cell_type": "code",
   "execution_count": 43,
   "id": "ab350c3d",
   "metadata": {},
   "outputs": [
    {
     "name": "stdout",
     "output_type": "stream",
     "text": [
      "Found 2000 files belonging to 2 classes.\n",
      "Found 1000 files belonging to 2 classes.\n",
      "Found 2000 files belonging to 2 classes.\n"
     ]
    }
   ],
   "source": [
    "train_dataset = image_dataset_from_directory(\n",
    "    new_base_dir / 'train',\n",
    "    image_size=(180, 180),\n",
    "    batch_size=32)\n",
    "\n",
    "validation_dataset = image_dataset_from_directory(\n",
    "    new_base_dir / 'validation', \n",
    "    image_size=(180, 180),\n",
    "    batch_size=32)\n",
    "\n",
    "test_dataset = image_dataset_from_directory(\n",
    "    new_base_dir / 'test',\n",
    "    image_size=(180, 180),\n",
    "    batch_size=32)"
   ]
  },
  {
   "cell_type": "code",
   "execution_count": 44,
   "id": "f043f24c",
   "metadata": {},
   "outputs": [
    {
     "name": "stdout",
     "output_type": "stream",
     "text": [
      "데이터 배치 크기 : (32, 180, 180, 3)\n",
      "레이블 배치 크기 : (32,)\n"
     ]
    }
   ],
   "source": [
    "for data_batch, labels_batch in train_dataset :\n",
    "    print('데이터 배치 크기 :', data_batch.shape)\n",
    "    print('레이블 배치 크기 :', labels_batch.shape)\n",
    "    break"
   ]
  },
  {
   "cell_type": "markdown",
   "id": "c82aa275",
   "metadata": {},
   "source": [
    "## dataset으로 모델 훈련하기"
   ]
  },
  {
   "cell_type": "code",
   "execution_count": 45,
   "id": "67c98b1c",
   "metadata": {
    "scrolled": true
   },
   "outputs": [
    {
     "name": "stdout",
     "output_type": "stream",
     "text": [
      "Epoch 1/30\n",
      "63/63 [==============================] - 57s 889ms/step - loss: 0.7011 - accuracy: 0.5235 - val_loss: 0.6884 - val_accuracy: 0.5180\n",
      "Epoch 2/30\n",
      "63/63 [==============================] - 67s 1s/step - loss: 0.6923 - accuracy: 0.5670 - val_loss: 0.6819 - val_accuracy: 0.5610\n",
      "Epoch 3/30\n",
      "63/63 [==============================] - 66s 1s/step - loss: 0.6801 - accuracy: 0.6055 - val_loss: 0.6207 - val_accuracy: 0.6420\n",
      "Epoch 4/30\n",
      "63/63 [==============================] - 64s 1s/step - loss: 0.6238 - accuracy: 0.6415 - val_loss: 0.6180 - val_accuracy: 0.6410\n",
      "Epoch 5/30\n",
      "63/63 [==============================] - 67s 1s/step - loss: 0.5880 - accuracy: 0.6975 - val_loss: 0.6515 - val_accuracy: 0.6420\n",
      "Epoch 6/30\n",
      "63/63 [==============================] - 65s 1s/step - loss: 0.5602 - accuracy: 0.6950 - val_loss: 0.7410 - val_accuracy: 0.6260\n",
      "Epoch 7/30\n",
      "63/63 [==============================] - 65s 1s/step - loss: 0.5291 - accuracy: 0.7365 - val_loss: 0.6125 - val_accuracy: 0.6750\n",
      "Epoch 8/30\n",
      "63/63 [==============================] - 66s 1s/step - loss: 0.4962 - accuracy: 0.7685 - val_loss: 0.5419 - val_accuracy: 0.7210\n",
      "Epoch 9/30\n",
      "63/63 [==============================] - 65s 1s/step - loss: 0.4505 - accuracy: 0.7835 - val_loss: 0.5700 - val_accuracy: 0.7340\n",
      "Epoch 10/30\n",
      "63/63 [==============================] - 66s 1s/step - loss: 0.4084 - accuracy: 0.8070 - val_loss: 0.6124 - val_accuracy: 0.7180\n",
      "Epoch 11/30\n",
      "63/63 [==============================] - 64s 1s/step - loss: 0.3720 - accuracy: 0.8330 - val_loss: 0.5376 - val_accuracy: 0.7370\n",
      "Epoch 12/30\n",
      "63/63 [==============================] - 65s 1s/step - loss: 0.3167 - accuracy: 0.8615 - val_loss: 0.6394 - val_accuracy: 0.7130\n",
      "Epoch 13/30\n",
      "63/63 [==============================] - 65s 1s/step - loss: 0.2786 - accuracy: 0.8890 - val_loss: 0.6260 - val_accuracy: 0.7300\n",
      "Epoch 14/30\n",
      "63/63 [==============================] - 64s 1s/step - loss: 0.2194 - accuracy: 0.8990 - val_loss: 0.7134 - val_accuracy: 0.7570\n",
      "Epoch 15/30\n",
      "63/63 [==============================] - 64s 1s/step - loss: 0.1768 - accuracy: 0.9280 - val_loss: 0.8529 - val_accuracy: 0.7450\n",
      "Epoch 16/30\n",
      "63/63 [==============================] - 65s 1s/step - loss: 0.1419 - accuracy: 0.9440 - val_loss: 0.8066 - val_accuracy: 0.7540\n",
      "Epoch 17/30\n",
      "63/63 [==============================] - 64s 1s/step - loss: 0.0968 - accuracy: 0.9630 - val_loss: 1.4419 - val_accuracy: 0.7390\n",
      "Epoch 18/30\n",
      "63/63 [==============================] - 64s 1s/step - loss: 0.0937 - accuracy: 0.9715 - val_loss: 1.3319 - val_accuracy: 0.7310\n",
      "Epoch 19/30\n",
      "63/63 [==============================] - 64s 1s/step - loss: 0.0858 - accuracy: 0.9680 - val_loss: 1.5733 - val_accuracy: 0.7130\n",
      "Epoch 20/30\n",
      "63/63 [==============================] - 65s 1s/step - loss: 0.0733 - accuracy: 0.9755 - val_loss: 1.1462 - val_accuracy: 0.7390\n",
      "Epoch 21/30\n",
      "63/63 [==============================] - 64s 1s/step - loss: 0.0555 - accuracy: 0.9805 - val_loss: 1.6536 - val_accuracy: 0.7160\n",
      "Epoch 22/30\n",
      "63/63 [==============================] - 64s 1s/step - loss: 0.0562 - accuracy: 0.9795 - val_loss: 1.7381 - val_accuracy: 0.7300\n",
      "Epoch 23/30\n",
      "63/63 [==============================] - 64s 1s/step - loss: 0.0562 - accuracy: 0.9835 - val_loss: 2.0741 - val_accuracy: 0.7170\n",
      "Epoch 24/30\n",
      "63/63 [==============================] - 65s 1s/step - loss: 0.0443 - accuracy: 0.9860 - val_loss: 1.5976 - val_accuracy: 0.7440\n",
      "Epoch 25/30\n",
      "63/63 [==============================] - 65s 1s/step - loss: 0.0441 - accuracy: 0.9855 - val_loss: 1.7253 - val_accuracy: 0.7370\n",
      "Epoch 26/30\n",
      "63/63 [==============================] - 64s 1s/step - loss: 0.0355 - accuracy: 0.9870 - val_loss: 1.6038 - val_accuracy: 0.7480\n",
      "Epoch 27/30\n",
      "63/63 [==============================] - 64s 1s/step - loss: 0.0358 - accuracy: 0.9860 - val_loss: 1.8252 - val_accuracy: 0.7360\n",
      "Epoch 28/30\n",
      "63/63 [==============================] - 64s 1s/step - loss: 0.0495 - accuracy: 0.9845 - val_loss: 2.8667 - val_accuracy: 0.6750\n",
      "Epoch 29/30\n",
      "63/63 [==============================] - 64s 1s/step - loss: 0.0755 - accuracy: 0.9870 - val_loss: 1.9053 - val_accuracy: 0.7260\n",
      "Epoch 30/30\n",
      "63/63 [==============================] - 64s 1s/step - loss: 0.0194 - accuracy: 0.9920 - val_loss: 2.2888 - val_accuracy: 0.7410\n"
     ]
    }
   ],
   "source": [
    "callbacks = [\n",
    "    keras.callbacks.ModelCheckpoint(\n",
    "        filepath = 'convnet_from_scratch.keras',\n",
    "        save_best_only = True,\n",
    "        monitor='val_loss')\n",
    "]\n",
    "\n",
    "history = model.fit(train_dataset,\n",
    "                    epochs = 30,\n",
    "                    validation_data = validation_dataset,\n",
    "                    callbacks = callbacks)"
   ]
  },
  {
   "cell_type": "markdown",
   "id": "7fdbe41e",
   "metadata": {},
   "source": [
    "## 훈련 과정의 정확도와 손실 그래프 그리기"
   ]
  },
  {
   "cell_type": "code",
   "execution_count": 47,
   "id": "64c22e05",
   "metadata": {},
   "outputs": [
    {
     "data": {
      "image/png": "[encoded data removed]",
      "text/plain": [
       "<Figure size 640x480 with 1 Axes>"
      ]
     },
     "metadata": {},
     "output_type": "display_data"
    },
    {
     "data": {
      "image/png": "[encoded data removed]",
      "text/plain": [
       "<Figure size 640x480 with 1 Axes>"
      ]
     },
     "metadata": {},
     "output_type": "display_data"
    }
   ],
   "source": [
    "import matplotlib.pyplot as plt\n",
    "\n",
    "accuracy = history.history['accuracy']\n",
    "val_accuracy = history.history['val_accuracy']\n",
    "loss = history.history['loss']\n",
    "val_loss = history.history['val_loss']\n",
    "\n",
    "epochs = range(1, len(accuracy) + 1)\n",
    "\n",
    "plt.plot(epochs, accuracy, 'bo', label = 'Training accuracy')\n",
    "plt.plot(epochs, val_accuracy, 'b', label = 'Validation accuracy')\n",
    "plt.title(\"Training and validation accuracy\")\n",
    "plt.legend()\n",
    "plt.figure()\n",
    "plt.plot(epochs, loss, 'bo', label = 'Training loss')\n",
    "plt.plot(epochs, val_loss, 'b', label = 'Validation loss')\n",
    "plt.title('Training and validation loss')\n",
    "plt.legend()\n",
    "plt.show()"
   ]
  },
  {
   "cell_type": "code",
   "execution_count": 48,
   "id": "141558df",
   "metadata": {},
   "outputs": [
    {
     "data": {
      "text/plain": [
       "320"
      ]
     },
     "execution_count": 48,
     "metadata": {},
     "output_type": "execute_result"
    }
   ],
   "source": [
    "3*3*32+32"
   ]
  }
 ],
 "metadata": {
  "kernelspec": {
   "display_name": "Python 3 (ipykernel)",
   "language": "python",
   "name": "python3"
  },
  "language_info": {
   "codemirror_mode": {
    "name": "ipython",
    "version": 3
   },
   "file_extension": ".py",
   "mimetype": "text/x-python",
   "name": "python",
   "nbconvert_exporter": "python",
   "pygments_lexer": "ipython3",
   "version": "3.9.13"
  },
  "toc": {
   "base_numbering": 1,
   "nav_menu": {},
   "number_sections": true,
   "sideBar": true,
   "skip_h1_title": false,
   "title_cell": "Table of Contents",
   "title_sidebar": "Contents",
   "toc_cell": false,
   "toc_position": {},
   "toc_section_display": true,
   "toc_window_display": false
  }
 },
 "nbformat": 4,
 "nbformat_minor": 5
}
