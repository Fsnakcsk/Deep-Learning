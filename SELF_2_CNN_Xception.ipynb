{
 "cells": [
  {
   "cell_type": "code",
   "execution_count": null,
   "id": "284d9b75",
   "metadata": {},
   "outputs": [],
   "source": [
    "from keras.applications.xception import xception,decode_predictions\n",
    "from keras.preprocessing import image\n",
    "import numpy as np\n",
    "import tensorflow as tf\n",
    "import matplotlib.pyplot as plt   \n",
    "\n",
    "\n",
    "model = tf.keras.applications.xception.Xception(weights='imagenet',include_top=True)\n",
    "\n",
    "#'任意照片&格式轉換'\n",
    "IMAGE_PATH='./20177.jpg'\n",
    "img=tf.keras.preprocessing.image.load_img(IMAGE_PATH,target_size=(299,299))\n",
    "img=tf.keras.preprocessing.image.img_to_array(img)\n",
    "plt.imshow(img/255.)\n",
    "\n",
    "#'辨識'\n",
    "predictions=model.predict(np.array([img]))\n",
    "print('Predicted:', decode_predictions(predictions, top=3)[0])"
   ]
  }
 ],
 "metadata": {
  "kernelspec": {
   "display_name": "Python 3 (ipykernel)",
   "language": "python",
   "name": "python3"
  },
  "language_info": {
   "codemirror_mode": {
    "name": "ipython",
    "version": 3
   },
   "file_extension": ".py",
   "mimetype": "text/x-python",
   "name": "python",
   "nbconvert_exporter": "python",
   "pygments_lexer": "ipython3",
   "version": "3.9.7"
  },
  "toc": {
   "base_numbering": 1,
   "nav_menu": {},
   "number_sections": true,
   "sideBar": true,
   "skip_h1_title": false,
   "title_cell": "Table of Contents",
   "title_sidebar": "Contents",
   "toc_cell": false,
   "toc_position": {},
   "toc_section_display": true,
   "toc_window_display": false
  }
 },
 "nbformat": 4,
 "nbformat_minor": 5
}
