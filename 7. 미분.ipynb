{
 "cells": [
  {
   "cell_type": "markdown",
   "id": "3a66963d",
   "metadata": {},
   "source": [
    "https://koreanfoodie.me/119"
   ]
  },
  {
   "cell_type": "code",
   "execution_count": 1,
   "id": "de34678b",
   "metadata": {},
   "outputs": [],
   "source": [
    "import numpy as np"
   ]
  },
  {
   "cell_type": "code",
   "execution_count": 2,
   "id": "1c191d54",
   "metadata": {},
   "outputs": [],
   "source": [
    "# 미분\n",
    "def numerical_diff(f, x):\n",
    "    h = 1e-4    # 0.0001\n",
    "    return (f(x+h) - f(x-h)) / (2*h)"
   ]
  },
  {
   "cell_type": "code",
   "execution_count": 3,
   "id": "7ada691f",
   "metadata": {},
   "outputs": [],
   "source": [
    "#편미분\n",
    "# f(x0, x1) = w**2 0 + w**2 1\n",
    "\n",
    "#           x[0, 1]\n",
    "\n",
    "def function_2(x):\n",
    "    return x[0]**2 + x[1]**2"
   ]
  },
  {
   "cell_type": "code",
   "execution_count": 4,
   "id": "6e686f8d",
   "metadata": {},
   "outputs": [
    {
     "data": {
      "text/plain": [
       "6.00000000000378"
      ]
     },
     "execution_count": 4,
     "metadata": {},
     "output_type": "execute_result"
    }
   ],
   "source": [
    "def function_tmp1(x0):\n",
    "    return x0*x0 + 4.0**2.0  # 4.0**2.0 == 0\n",
    "numerical_diff(function_tmp1, 3.0)    # 6.0000000378"
   ]
  },
  {
   "cell_type": "code",
   "execution_count": 5,
   "id": "2de342ee",
   "metadata": {},
   "outputs": [
    {
     "data": {
      "text/plain": [
       "56.66253229954066"
      ]
     },
     "execution_count": 5,
     "metadata": {},
     "output_type": "execute_result"
    }
   ],
   "source": [
    "def function_tmp2(x1):\n",
    "    return 3.0**2.0 + x1**x1  #3.0**2.0 == 0\n",
    "numerical_diff(function_tmp2, 3.0)    # 7.999999999119"
   ]
  },
  {
   "cell_type": "code",
   "execution_count": 6,
   "id": "d3c3effe",
   "metadata": {},
   "outputs": [
    {
     "data": {
      "text/plain": [
       "25.0"
      ]
     },
     "execution_count": 6,
     "metadata": {},
     "output_type": "execute_result"
    }
   ],
   "source": [
    "4.0**2.0 + 3.0*3.0"
   ]
  },
  {
   "cell_type": "code",
   "execution_count": 7,
   "id": "8a0a5c90",
   "metadata": {},
   "outputs": [],
   "source": [
    "def _numerical_gradient_no_batch(f, x):\n",
    "    h = 1e-4 # 0.0001\n",
    "    grad = np.zeros_like(x) # x와 형상이 같은 배열을 생성\n",
    "\n",
    "    for idx in range(x.size):\n",
    "        tmp_val = x[idx]\n",
    "\n",
    "        # f(x+h) 계산\n",
    "        x[idx] = float(tmp_val) + h\n",
    "        fxh1 = f(x)\n",
    "\n",
    "        # f(x-h) 계산\n",
    "        x[idx] = tmp_val - h \n",
    "        fxh2 = f(x) \n",
    "\n",
    "        grad[idx] = (fxh1 - fxh2) / (2*h)\n",
    "        x[idx] = tmp_val # 값 복원\n",
    "\n",
    "    return grad"
   ]
  },
  {
   "cell_type": "code",
   "execution_count": 8,
   "id": "311a97cf",
   "metadata": {},
   "outputs": [
    {
     "name": "stdout",
     "output_type": "stream",
     "text": [
      "[6. 8.]\n",
      "[0. 4.]\n",
      "[6. 0.]\n"
     ]
    }
   ],
   "source": [
    "print(_numerical_gradient_no_batch(function_2, np.array([3.0, 4.0])))\n",
    "print(_numerical_gradient_no_batch(function_2, np.array([0.0, 2.0])))\n",
    "print(_numerical_gradient_no_batch(function_2, np.array([3.0, 0.0])))\n"
   ]
  }
 ],
 "metadata": {
  "kernelspec": {
   "display_name": "Python 3 (ipykernel)",
   "language": "python",
   "name": "python3"
  },
  "language_info": {
   "codemirror_mode": {
    "name": "ipython",
    "version": 3
   },
   "file_extension": ".py",
   "mimetype": "text/x-python",
   "name": "python",
   "nbconvert_exporter": "python",
   "pygments_lexer": "ipython3",
   "version": "3.9.7"
  },
  "toc": {
   "base_numbering": 1,
   "nav_menu": {},
   "number_sections": true,
   "sideBar": true,
   "skip_h1_title": false,
   "title_cell": "Table of Contents",
   "title_sidebar": "Contents",
   "toc_cell": false,
   "toc_position": {},
   "toc_section_display": true,
   "toc_window_display": false
  }
 },
 "nbformat": 4,
 "nbformat_minor": 5
}
