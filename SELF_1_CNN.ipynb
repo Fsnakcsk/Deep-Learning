{
 "cells": [
  {
   "cell_type": "code",
   "execution_count": 11,
   "id": "c195f18c",
   "metadata": {},
   "outputs": [],
   "source": [
    "import numpy as np\n",
    "import os\n",
    "from sklearn.metrics import confusion_matrix\n",
    "import seaborn as sn; sn.set(font_scale=1.4)\n",
    "from sklearn.utils import shuffle           \n",
    "import matplotlib.pyplot as plt \n",
    "\n",
    "import cv2 #!pip install opencv-python\n",
    "import tensorflow as tf                \n",
    "from tqdm import tqdm\n",
    "\n",
    "from keras.models import Sequential\n",
    "from keras.layers import Dense, Activation, Dropout, Flatten\n",
    "from keras.layers import Conv2D\n",
    "from keras.layers import MaxPooling2D\n",
    "from keras.optimizers import SGD, Adam"
   ]
  },
  {
   "cell_type": "code",
   "execution_count": 16,
   "id": "7f3d4572",
   "metadata": {},
   "outputs": [
    {
     "name": "stdout",
     "output_type": "stream",
     "text": [
      "Loading training_set\n"
     ]
    },
    {
     "name": "stderr",
     "output_type": "stream",
     "text": [
      "100%|█████████████████████████████████████████████████████████████████████████████| 4000/4000 [00:05<00:00, 712.53it/s]\n",
      "100%|█████████████████████████████████████████████████████████████████████████████| 4005/4005 [00:05<00:00, 686.40it/s]\n"
     ]
    },
    {
     "name": "stdout",
     "output_type": "stream",
     "text": [
      "Loading test_set\n"
     ]
    },
    {
     "name": "stderr",
     "output_type": "stream",
     "text": [
      "100%|█████████████████████████████████████████████████████████████████████████████| 1011/1011 [00:01<00:00, 747.61it/s]\n",
      "100%|█████████████████████████████████████████████████████████████████████████████| 1012/1012 [00:01<00:00, 714.07it/s]\n"
     ]
    }
   ],
   "source": [
    "# 定義子資料夾名稱&對應的數字，檔名不能有中文\n",
    "\n",
    "class_names = ['cats','dogs']\n",
    "class_names_label = {class_name:i for i, class_name in enumerate(class_names)}\n",
    "\n",
    "nb_classes = len(class_names)\n",
    "\n",
    "IMAGE_SIZE = (64, 64)\n",
    "#%%\n",
    "def load_data():\n",
    "    datasets = ['training_set', 'test_set'] #資料夾\n",
    "    output = []\n",
    "    \n",
    "    # Iterate through training and test sets\n",
    "    # 训练集和 测试集\n",
    "    for dataset in datasets:\n",
    "        \n",
    "        images = []\n",
    "        labels = []\n",
    "        \n",
    "        print(\"Loading {}\".format(dataset))\n",
    "        \n",
    "        # Iterate through each folder corresponding to a category\n",
    "        for folder in os.listdir(dataset):\n",
    "            label = class_names_label[folder]\n",
    "            \n",
    "            # Iterate through each image in our folder \n",
    "            # (文件夹里的照片反复)\n",
    "            for file in tqdm(os.listdir(os.path.join(dataset, folder))):\n",
    "                \n",
    "                # Get the path name of the image \n",
    "                # (读取照片的文件夹名字)\n",
    "                img_path = os.path.join(os.path.join(dataset, folder), file)\n",
    "                \n",
    "                # Open and resize the img \n",
    "                # (调整照片大小—)\n",
    "                image = cv2.imread(img_path)\n",
    "                \n",
    "                # (cv都照片，颜色默认为BGR， 需要转为RGB，错误表示黑白已转换)\n",
    "                image = cv2.cvtColor(image, cv2.COLOR_BGR2RGB)\n",
    "                image = cv2.resize(image, IMAGE_SIZE) \n",
    "                \n",
    "                # 添加照片和答案到 List里\n",
    "                images.append(image)\n",
    "                labels.append(label)\n",
    "                \n",
    "        images = np.array(images, dtype = 'float32')\n",
    "        labels = np.array(labels, dtype = 'int32')   \n",
    "        \n",
    "        output.append((images, labels))\n",
    "\n",
    "    return output\n",
    "#%%\n",
    "(train_images, train_labels), (test_images, test_labels) = load_data()\n",
    "#%%"
   ]
  },
  {
   "cell_type": "markdown",
   "id": "16f8c2eb",
   "metadata": {},
   "source": [
    "- 积卷层 : 特征截取\n",
    "- 池化层 : 特征压缩"
   ]
  },
  {
   "cell_type": "code",
   "execution_count": 17,
   "id": "4e4a3dc6",
   "metadata": {},
   "outputs": [],
   "source": [
    "#'隨機性'\n",
    "train_images, train_labels = shuffle(train_images, train_labels, random_state=25)\n",
    "\n",
    "#'標準化'\n",
    "train_images = train_images / 255.0 \n",
    "test_images = test_images / 255.0\n",
    "\n",
    "#'建模'\n",
    "input_shape = (64, 64, 3) #长64， 宽64， 高3(채닐)\n",
    "\n",
    "model = Sequential([\n",
    "    \n",
    "    #--------------------------------------------------------------------------------------------------\n",
    "    Conv2D(64, (3, 3),              # 64神经元 （3，3）扫描器的大小\n",
    "           input_shape=input_shape, # 自变量的 shape\n",
    "           padding='same',          # 池化层 ： 把通过扫描器扫出来的特征取出来，然后和原图对比 same = 一样大的意思\n",
    "           activation='relu', \n",
    "           strides=2),              # 扫描器的移动间隔\n",
    "    \n",
    "    MaxPooling2D(pool_size=(2, 2),  # 压缩大小 2*2\n",
    "                 strides=2),        # 每隔多少步 做一次压缩\n",
    "    #--------------------------------------------------------------------------------------------------\n",
    "    \n",
    "    Dropout(0.2), #防止过拟合， 随机丢掉一部分的资料\n",
    "    \n",
    "    #--------------------------------------------------------------------------------------------------\n",
    "    Conv2D(128, (3, 3), input_shape=input_shape, \n",
    "           padding='same', \n",
    "           activation='relu', \n",
    "           strides=2),\n",
    "    \n",
    "    MaxPooling2D(pool_size=(2, 2), strides=2),\n",
    "    #--------------------------------------------------------------------------------------------------\n",
    "\n",
    "    Dropout(0.2),\n",
    "    \n",
    "    Flatten(), # 图片摊平 **\n",
    "    \n",
    "    Dropout(0.5),\n",
    "    \n",
    "    Dense(2, activation='softmax') # 輸出層，分類用softmax\n",
    "])\n",
    "\n",
    "model.compile(optimizer = 'adam', # SGD(lr=0.1)\n",
    "              loss = 'sparse_categorical_crossentropy',\n",
    "              metrics=['accuracy'])"
   ]
  },
  {
   "cell_type": "code",
   "execution_count": 32,
   "id": "61377c60",
   "metadata": {
    "scrolled": true
   },
   "outputs": [
    {
     "name": "stdout",
     "output_type": "stream",
     "text": [
      "Epoch 1/45\n",
      "32/32 [==============================] - 3s 92ms/step - loss: 0.1409 - accuracy: 0.9482\n",
      "Epoch 2/45\n",
      "32/32 [==============================] - 3s 92ms/step - loss: 0.1342 - accuracy: 0.9470\n",
      "Epoch 3/45\n",
      "32/32 [==============================] - 3s 92ms/step - loss: 0.1447 - accuracy: 0.9439\n",
      "Epoch 4/45\n",
      "32/32 [==============================] - 3s 92ms/step - loss: 0.1354 - accuracy: 0.9478\n",
      "Epoch 5/45\n",
      "32/32 [==============================] - 3s 93ms/step - loss: 0.1369 - accuracy: 0.9464\n",
      "Epoch 6/45\n",
      "32/32 [==============================] - 3s 93ms/step - loss: 0.1373 - accuracy: 0.9424\n",
      "Epoch 7/45\n",
      "32/32 [==============================] - 3s 93ms/step - loss: 0.1419 - accuracy: 0.9439\n",
      "Epoch 8/45\n",
      "32/32 [==============================] - 3s 92ms/step - loss: 0.1379 - accuracy: 0.9480\n",
      "Epoch 9/45\n",
      "32/32 [==============================] - 3s 92ms/step - loss: 0.1312 - accuracy: 0.9488\n",
      "Epoch 10/45\n",
      "32/32 [==============================] - 3s 92ms/step - loss: 0.1372 - accuracy: 0.9468\n",
      "Epoch 11/45\n",
      "32/32 [==============================] - 3s 93ms/step - loss: 0.1366 - accuracy: 0.9468\n",
      "Epoch 12/45\n",
      "32/32 [==============================] - 3s 94ms/step - loss: 0.1379 - accuracy: 0.9462\n",
      "Epoch 13/45\n",
      "32/32 [==============================] - 3s 93ms/step - loss: 0.1443 - accuracy: 0.9443\n",
      "Epoch 14/45\n",
      "32/32 [==============================] - 3s 92ms/step - loss: 0.1321 - accuracy: 0.9479\n",
      "Epoch 15/45\n",
      "32/32 [==============================] - 3s 94ms/step - loss: 0.1259 - accuracy: 0.9527\n",
      "Epoch 16/45\n",
      "32/32 [==============================] - 3s 92ms/step - loss: 0.1320 - accuracy: 0.9458\n",
      "Epoch 17/45\n",
      "32/32 [==============================] - 3s 92ms/step - loss: 0.1348 - accuracy: 0.9473\n",
      "Epoch 18/45\n",
      "32/32 [==============================] - 3s 93ms/step - loss: 0.1315 - accuracy: 0.9499\n",
      "Epoch 19/45\n",
      "32/32 [==============================] - 3s 93ms/step - loss: 0.1351 - accuracy: 0.9488\n",
      "Epoch 20/45\n",
      "32/32 [==============================] - 3s 94ms/step - loss: 0.1369 - accuracy: 0.9474\n",
      "Epoch 21/45\n",
      "32/32 [==============================] - 3s 95ms/step - loss: 0.1417 - accuracy: 0.9432\n",
      "Epoch 22/45\n",
      "32/32 [==============================] - 3s 94ms/step - loss: 0.1324 - accuracy: 0.9495\n",
      "Epoch 23/45\n",
      "32/32 [==============================] - 3s 94ms/step - loss: 0.1340 - accuracy: 0.9487\n",
      "Epoch 24/45\n",
      "32/32 [==============================] - 3s 94ms/step - loss: 0.1273 - accuracy: 0.9499\n",
      "Epoch 25/45\n",
      "32/32 [==============================] - 3s 94ms/step - loss: 0.1374 - accuracy: 0.9474\n",
      "Epoch 26/45\n",
      "32/32 [==============================] - 3s 94ms/step - loss: 0.1283 - accuracy: 0.9483\n",
      "Epoch 27/45\n",
      "32/32 [==============================] - 3s 94ms/step - loss: 0.1276 - accuracy: 0.9482\n",
      "Epoch 28/45\n",
      "32/32 [==============================] - 3s 94ms/step - loss: 0.1335 - accuracy: 0.9467\n",
      "Epoch 29/45\n",
      "32/32 [==============================] - 3s 99ms/step - loss: 0.1311 - accuracy: 0.9520\n",
      "Epoch 30/45\n",
      "32/32 [==============================] - 3s 94ms/step - loss: 0.1399 - accuracy: 0.9477\n",
      "Epoch 31/45\n",
      "32/32 [==============================] - 3s 95ms/step - loss: 0.1218 - accuracy: 0.9533\n",
      "Epoch 32/45\n",
      "32/32 [==============================] - 3s 95ms/step - loss: 0.1251 - accuracy: 0.9547\n",
      "Epoch 33/45\n",
      "32/32 [==============================] - 3s 94ms/step - loss: 0.1185 - accuracy: 0.9519\n",
      "Epoch 34/45\n",
      "32/32 [==============================] - 3s 94ms/step - loss: 0.1351 - accuracy: 0.9428\n",
      "Epoch 35/45\n",
      "32/32 [==============================] - 3s 94ms/step - loss: 0.1337 - accuracy: 0.9474\n",
      "Epoch 36/45\n",
      "32/32 [==============================] - 3s 92ms/step - loss: 0.1331 - accuracy: 0.9484\n",
      "Epoch 37/45\n",
      "32/32 [==============================] - 3s 92ms/step - loss: 0.1374 - accuracy: 0.9448\n",
      "Epoch 38/45\n",
      "32/32 [==============================] - 3s 92ms/step - loss: 0.1284 - accuracy: 0.9487\n",
      "Epoch 39/45\n",
      "32/32 [==============================] - 3s 92ms/step - loss: 0.1262 - accuracy: 0.9545\n",
      "Epoch 40/45\n",
      "32/32 [==============================] - 3s 92ms/step - loss: 0.1282 - accuracy: 0.9498\n",
      "Epoch 41/45\n",
      "32/32 [==============================] - 3s 93ms/step - loss: 0.1232 - accuracy: 0.9502\n",
      "Epoch 42/45\n",
      "32/32 [==============================] - 3s 93ms/step - loss: 0.1222 - accuracy: 0.9538\n",
      "Epoch 43/45\n",
      "32/32 [==============================] - 3s 93ms/step - loss: 0.1246 - accuracy: 0.9525\n",
      "Epoch 44/45\n",
      "32/32 [==============================] - 3s 93ms/step - loss: 0.1243 - accuracy: 0.9525\n",
      "Epoch 45/45\n",
      "32/32 [==============================] - 3s 92ms/step - loss: 0.1324 - accuracy: 0.9442\n"
     ]
    }
   ],
   "source": [
    "history = model.fit(train_images, train_labels, \n",
    "                    #validation_data=(test_images, test_labels),\n",
    "                    #verbose=2,callbacks=[earlyStop],\n",
    "                    batch_size=256, epochs=45)"
   ]
  },
  {
   "cell_type": "code",
   "execution_count": 33,
   "id": "38188fe8",
   "metadata": {},
   "outputs": [
    {
     "data": {
      "text/plain": [
       "[<matplotlib.lines.Line2D at 0x172802e00d0>]"
      ]
     },
     "execution_count": 33,
     "metadata": {},
     "output_type": "execute_result"
    },
    {
     "data": {
      "image/png": "[encoded data removed]",
      "text/plain": [
       "<Figure size 432x288 with 1 Axes>"
      ]
     },
     "metadata": {},
     "output_type": "display_data"
    }
   ],
   "source": [
    "#'模型概況'\n",
    "plt.title('train_loss')\n",
    "plt.ylabel('loss')\n",
    "plt.xlabel('Epoch')\n",
    "plt.plot(history.history[\"loss\"])\n",
    "#scores = model.evaluate(test_images, test_labels)  \n",
    "#print('test:',result[1])"
   ]
  },
  {
   "cell_type": "code",
   "execution_count": 34,
   "id": "9472fe40",
   "metadata": {},
   "outputs": [
    {
     "name": "stdout",
     "output_type": "stream",
     "text": [
      "64/64 [==============================] - 0s 5ms/step\n"
     ]
    }
   ],
   "source": [
    "#'預測'\n",
    "predictions = model.predict(test_images)     # Vector of probabilities\n",
    "pred_labels = np.argmax(predictions, axis = 1) # We take the highest probability"
   ]
  },
  {
   "cell_type": "code",
   "execution_count": 35,
   "id": "74329f74",
   "metadata": {},
   "outputs": [
    {
     "name": "stdout",
     "output_type": "stream",
     "text": [
      "0.8235294117647058\n"
     ]
    }
   ],
   "source": [
    "#'混淆矩陣'\n",
    "CM = confusion_matrix(test_labels, pred_labels)\n",
    "def accuracy(confusion_matrix):\n",
    "    diagonal_sum = confusion_matrix.trace()\n",
    "    sum_of_all_elements = confusion_matrix.sum()\n",
    "    return diagonal_sum / sum_of_all_elements \n",
    "print(accuracy(CM))"
   ]
  },
  {
   "cell_type": "code",
   "execution_count": 51,
   "id": "5dcf4220",
   "metadata": {},
   "outputs": [
    {
     "data": {
      "image/png": "[encoded data removed]",
      "text/plain": [
       "<Figure size 432x288 with 2 Axes>"
      ]
     },
     "metadata": {},
     "output_type": "display_data"
    }
   ],
   "source": [
    "#'混淆矩陣視覺化，看錯誤'\n",
    "ax = plt.axes()\n",
    "sn.heatmap(CM, annot=True, \n",
    "           annot_kws={\"size\": 10}, \n",
    "           xticklabels=class_names, \n",
    "           yticklabels=class_names, ax = ax, fmt='.1f')\n",
    "ax.set_title('Confusion matrix')\n",
    "plt.show()"
   ]
  },
  {
   "cell_type": "code",
   "execution_count": null,
   "id": "88dc7f2e",
   "metadata": {},
   "outputs": [],
   "source": [
    "#'存模型&讀模型'\n",
    "from keras.models import load_model\n",
    "model.save(\"85%_model\")\n",
    "model = load_model('CNN_model')"
   ]
  }
 ],
 "metadata": {
  "kernelspec": {
   "display_name": "Python 3 (ipykernel)",
   "language": "python",
   "name": "python3"
  },
  "language_info": {
   "codemirror_mode": {
    "name": "ipython",
    "version": 3
   },
   "file_extension": ".py",
   "mimetype": "text/x-python",
   "name": "python",
   "nbconvert_exporter": "python",
   "pygments_lexer": "ipython3",
   "version": "3.9.13"
  },
  "toc": {
   "base_numbering": 1,
   "nav_menu": {},
   "number_sections": true,
   "sideBar": true,
   "skip_h1_title": false,
   "title_cell": "Table of Contents",
   "title_sidebar": "Contents",
   "toc_cell": false,
   "toc_position": {},
   "toc_section_display": true,
   "toc_window_display": false
  }
 },
 "nbformat": 4,
 "nbformat_minor": 5
}
