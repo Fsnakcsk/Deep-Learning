{
 "cells": [
  {
   "cell_type": "code",
   "execution_count": 19,
   "id": "d9e54e87",
   "metadata": {},
   "outputs": [],
   "source": [
    "import numpy as np\n",
    "import tensorflow as tf"
   ]
  },
  {
   "cell_type": "code",
   "execution_count": null,
   "id": "ad0c69b9",
   "metadata": {},
   "outputs": [],
   "source": [
    "### random_uniform"
   ]
  },
  {
   "cell_type": "markdown",
   "id": "6f131e42",
   "metadata": {},
   "source": [
    "- tf.square(a)   # 제곱\n",
    "- tf.sqrt(a)     # 제곱근\n",
    "- tf.matmul(a,b) # 두 텐서의 점곱을 계산"
   ]
  },
  {
   "cell_type": "code",
   "execution_count": 1,
   "id": "9aa3b3a0",
   "metadata": {},
   "outputs": [],
   "source": [
    "# CNN than\n",
    "# RNN 자연어처리"
   ]
  },
  {
   "cell_type": "markdown",
   "id": "12d5c507",
   "metadata": {},
   "source": [
    "### GradientTape()  API\n",
    "- https://blog.csdn.net/TFATS/article/details/110636225"
   ]
  },
  {
   "cell_type": "code",
   "execution_count": 22,
   "id": "8516d50b",
   "metadata": {},
   "outputs": [],
   "source": [
    "input_var = tf.Variable(initial_value=3.)\n",
    "\n",
    "with tf.GradientTape() as tape :\n",
    "    result = tf.square(input_var)\n",
    "    \n",
    "gradient = tape.gradient(result, input_var)"
   ]
  },
  {
   "cell_type": "markdown",
   "id": "7a55961e",
   "metadata": {},
   "source": [
    "- gradient = tape.gradient(loss, weights)와 같이 가중치에 대한 모델 손실의 그레이디언트를 계산하는 데 가장 널리 사용되는 방법이다.\n",
    "- 실제로 입력은 어떤 텐서라도 가능하지만 텐서플로는 기존벅으로 푼련 가능한 변수만 추적함\n",
    "- 따라서 상수 텐서의 경우 tape.watch()를 호출하여 추적한다는 것을 **수동으로 알려주야함**\n",
    "\n",
    "\n",
    "- **이유 : 비용이 많이 들어**\n",
    "- **자원낭비를 막기위해 훈련 가능한 변수는 기본적으로 감시 대상이고, 훈련 가능한 변수에 대한 손실의 그레이디언트를 계산하는 것이 그레이디언트 테이프의 주 사용용도다.**"
   ]
  },
  {
   "cell_type": "code",
   "execution_count": 24,
   "id": "b87fae84",
   "metadata": {},
   "outputs": [],
   "source": [
    "input_const = tf.constant(3.) # 必须是小数点\n",
    "\n",
    "with tf.GradientTape() as tape :\n",
    "    tape.watch(input_const)\n",
    "    result = tf.square(input_const)\n",
    "    \n",
    "gradient = tape.gradient(result, input_const)"
   ]
  },
  {
   "cell_type": "code",
   "execution_count": null,
   "id": "b3763a16",
   "metadata": {},
   "outputs": [],
   "source": [
    "time = tf.Varable(0.)\n",
    "\n",
    "with tf.GradientTape() as outer_tape :\n",
    "    with tf.GradientTape() as inner_tape :\n",
    "        position = 4.9 * time ** 2\n",
    "    "
   ]
  },
  {
   "cell_type": "markdown",
   "id": "ac6010fe",
   "metadata": {},
   "source": [
    "### random.random()"
   ]
  },
  {
   "cell_type": "code",
   "execution_count": 15,
   "id": "1414ae69",
   "metadata": {},
   "outputs": [
    {
     "name": "stdout",
     "output_type": "stream",
     "text": [
      "[[0.5395578  0.30043796 0.63537347 ... 0.76817709 0.39414578 0.46322635]\n",
      " [0.53913278 0.76946294 0.96701229 ... 1.15659937 0.81228188 0.66316484]\n",
      " [0.46192238 0.93720315 1.02524551 ... 1.22137537 0.94379289 0.68682826]\n",
      " ...\n",
      " [0.77750611 0.85493198 1.21426435 ... 1.45679366 0.94426841 0.84764146]\n",
      " [0.57154642 0.41428085 0.74101253 ... 0.89333136 0.50314538 0.53168012]\n",
      " [0.17799942 0.50266394 0.49523797 ... 0.58797162 0.48987871 0.32507221]]\n"
     ]
    }
   ],
   "source": [
    "x = np.random.random([32,2])\n",
    "y = np.random.random([2,32])\n",
    "print(np.dot(x, y))"
   ]
  },
  {
   "cell_type": "markdown",
   "id": "b70cc7a6",
   "metadata": {},
   "source": [
    "### np.tanspose() = T"
   ]
  },
  {
   "cell_type": "code",
   "execution_count": 38,
   "id": "ee0d5d76",
   "metadata": {},
   "outputs": [
    {
     "data": {
      "text/plain": [
       "array([[0.],\n",
       "       [0.],\n",
       "       [0.],\n",
       "       [0.],\n",
       "       [0.]])"
      ]
     },
     "execution_count": 38,
     "metadata": {},
     "output_type": "execute_result"
    }
   ],
   "source": [
    "# np.tanspose(x)\n",
    "# T와 같다\n",
    "\n",
    "x = np.zeros([5, 1])\n",
    "x = x.T\n",
    "x = x.T\n",
    "\n",
    "x = x.transpose()\n",
    "x = x.transpose()\n",
    "x"
   ]
  },
  {
   "cell_type": "markdown",
   "id": "e31bd7ea",
   "metadata": {},
   "source": [
    "### 2D 회전"
   ]
  },
  {
   "cell_type": "code",
   "execution_count": 39,
   "id": "6a38d5bf",
   "metadata": {},
   "outputs": [],
   "source": [
    "# 2D 회전 :: \n",
    "# R = [[cos(theta), -sin(theta)] , [sin(theta), cos(theta)]] 와 점곱하여 얻음"
   ]
  },
  {
   "cell_type": "code",
   "execution_count": 40,
   "id": "475e0bc4",
   "metadata": {},
   "outputs": [],
   "source": [
    "# 점곱으로 2D 크기 변경\n",
    "# S = [[horizontal_factor, 0], [0, vertical_factor]]"
   ]
  },
  {
   "cell_type": "markdown",
   "id": "acf3d036",
   "metadata": {},
   "source": [
    "### tf.random.normal()"
   ]
  },
  {
   "cell_type": "code",
   "execution_count": 12,
   "id": "3b46add3",
   "metadata": {},
   "outputs": [
    {
     "data": {
      "text/plain": [
       "<tf.Tensor: shape=(3, 1), dtype=float32, numpy=\n",
       "array([[-0.35965142],\n",
       "       [-0.56284493],\n",
       "       [ 0.24498485]], dtype=float32)>"
      ]
     },
     "execution_count": 12,
     "metadata": {},
     "output_type": "execute_result"
    }
   ],
   "source": [
    "x = tf.random.normal(shape=(3,1), mean=0, stddev = 1)\n",
    "x"
   ]
  },
  {
   "cell_type": "markdown",
   "id": "376b992b",
   "metadata": {},
   "source": [
    "### tf.Variable()"
   ]
  },
  {
   "cell_type": "code",
   "execution_count": 13,
   "id": "6e2cf6c2",
   "metadata": {},
   "outputs": [
    {
     "data": {
      "text/plain": [
       "<tf.Variable 'Variable:0' shape=(3, 1) dtype=float32, numpy=\n",
       "array([[ 1.0724965 ],\n",
       "       [-1.9688529 ],\n",
       "       [-0.17836842]], dtype=float32)>"
      ]
     },
     "execution_count": 13,
     "metadata": {},
     "output_type": "execute_result"
    }
   ],
   "source": [
    "v = tf.Variable(initial_value = tf.random.normal(shape=(3,1)))\n",
    "v"
   ]
  },
  {
   "cell_type": "markdown",
   "id": "51db3713",
   "metadata": {},
   "source": [
    "### tf.assign()\n",
    "- https://blog.csdn.net/Invokar/article/details/89041501"
   ]
  },
  {
   "cell_type": "code",
   "execution_count": 14,
   "id": "f1e4eee8",
   "metadata": {},
   "outputs": [
    {
     "data": {
      "text/plain": [
       "<tf.Variable 'UnreadVariable' shape=(3, 1) dtype=float32, numpy=\n",
       "array([[1.],\n",
       "       [1.],\n",
       "       [1.]], dtype=float32)>"
      ]
     },
     "execution_count": 14,
     "metadata": {},
     "output_type": "execute_result"
    }
   ],
   "source": [
    "v.assign(tf.ones([3,1]))"
   ]
  },
  {
   "cell_type": "code",
   "execution_count": 18,
   "id": "181e9638",
   "metadata": {},
   "outputs": [
    {
     "ename": "AttributeError",
     "evalue": "module 'tensorflow' has no attribute 'assign'",
     "output_type": "error",
     "traceback": [
      "\u001b[1;31m---------------------------------------------------------------------------\u001b[0m",
      "\u001b[1;31mAttributeError\u001b[0m                            Traceback (most recent call last)",
      "\u001b[1;32m~\\AppData\\Local\\Temp\\ipykernel_11980\\3830381497.py\u001b[0m in \u001b[0;36m<module>\u001b[1;34m\u001b[0m\n\u001b[0;32m      1\u001b[0m \u001b[0mref_a\u001b[0m \u001b[1;33m=\u001b[0m \u001b[0mtf\u001b[0m\u001b[1;33m.\u001b[0m\u001b[0mVariable\u001b[0m\u001b[1;33m(\u001b[0m\u001b[0mtf\u001b[0m\u001b[1;33m.\u001b[0m\u001b[0mconstant\u001b[0m\u001b[1;33m(\u001b[0m\u001b[1;36m1\u001b[0m\u001b[1;33m)\u001b[0m\u001b[1;33m)\u001b[0m\u001b[1;33m\u001b[0m\u001b[1;33m\u001b[0m\u001b[0m\n\u001b[0;32m      2\u001b[0m \u001b[0mref_b\u001b[0m \u001b[1;33m=\u001b[0m \u001b[0mtf\u001b[0m\u001b[1;33m.\u001b[0m\u001b[0mVariable\u001b[0m\u001b[1;33m(\u001b[0m\u001b[0mtf\u001b[0m\u001b[1;33m.\u001b[0m\u001b[0mconstant\u001b[0m\u001b[1;33m(\u001b[0m\u001b[1;36m2\u001b[0m\u001b[1;33m)\u001b[0m\u001b[1;33m)\u001b[0m\u001b[1;33m\u001b[0m\u001b[1;33m\u001b[0m\u001b[0m\n\u001b[1;32m----> 3\u001b[1;33m \u001b[0mupdate\u001b[0m \u001b[1;33m=\u001b[0m \u001b[0mtf\u001b[0m\u001b[1;33m.\u001b[0m\u001b[0massign\u001b[0m\u001b[1;33m(\u001b[0m\u001b[0mref_a\u001b[0m\u001b[1;33m,\u001b[0m \u001b[1;36m10\u001b[0m\u001b[1;33m)\u001b[0m\u001b[1;33m\u001b[0m\u001b[1;33m\u001b[0m\u001b[0m\n\u001b[0m\u001b[0;32m      4\u001b[0m \u001b[0mref_sum\u001b[0m \u001b[1;33m=\u001b[0m \u001b[0mtf\u001b[0m\u001b[1;33m.\u001b[0m\u001b[0madd\u001b[0m\u001b[1;33m(\u001b[0m\u001b[0mref_a\u001b[0m\u001b[1;33m,\u001b[0m \u001b[0mref_b\u001b[0m\u001b[1;33m)\u001b[0m\u001b[1;33m\u001b[0m\u001b[1;33m\u001b[0m\u001b[0m\n\u001b[0;32m      5\u001b[0m \u001b[1;33m\u001b[0m\u001b[0m\n",
      "\u001b[1;31mAttributeError\u001b[0m: module 'tensorflow' has no attribute 'assign'"
     ]
    }
   ],
   "source": [
    "ref_a = tf.Variable(tf.constant(1))\n",
    "ref_b = tf.Variable(tf.constant(2))\n",
    "update = tf.assign(ref_a, 10)\n",
    "ref_sum = tf.add(ref_a, ref_b)\n",
    "\n",
    "with tf.Session() as sess:\n",
    "    sess.run(tf.global_variables_initializer())\n",
    "    print(sess.run(ref_sum))"
   ]
  }
 ],
 "metadata": {
  "kernelspec": {
   "display_name": "Python 3 (ipykernel)",
   "language": "python",
   "name": "python3"
  },
  "language_info": {
   "codemirror_mode": {
    "name": "ipython",
    "version": 3
   },
   "file_extension": ".py",
   "mimetype": "text/x-python",
   "name": "python",
   "nbconvert_exporter": "python",
   "pygments_lexer": "ipython3",
   "version": "3.9.13"
  },
  "toc": {
   "base_numbering": 1,
   "nav_menu": {},
   "number_sections": true,
   "sideBar": true,
   "skip_h1_title": false,
   "title_cell": "Table of Contents",
   "title_sidebar": "Contents",
   "toc_cell": false,
   "toc_position": {},
   "toc_section_display": true,
   "toc_window_display": false
  }
 },
 "nbformat": 4,
 "nbformat_minor": 5
}
